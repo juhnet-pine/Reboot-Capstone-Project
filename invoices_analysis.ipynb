{
 "cells": [
  {
   "cell_type": "code",
   "execution_count": 20,
   "metadata": {},
   "outputs": [
    {
     "data": {
      "text/html": [
       "<div>\n",
       "<style scoped>\n",
       "    .dataframe tbody tr th:only-of-type {\n",
       "        vertical-align: middle;\n",
       "    }\n",
       "\n",
       "    .dataframe tbody tr th {\n",
       "        vertical-align: top;\n",
       "    }\n",
       "\n",
       "    .dataframe thead th {\n",
       "        text-align: right;\n",
       "    }\n",
       "</style>\n",
       "<table border=\"1\" class=\"dataframe\">\n",
       "  <thead>\n",
       "    <tr style=\"text-align: right;\">\n",
       "      <th></th>\n",
       "      <th>Date</th>\n",
       "      <th>Item_id</th>\n",
       "      <th>Vendor_id</th>\n",
       "      <th>Vendor_Name</th>\n",
       "      <th>Store_id</th>\n",
       "      <th>Store_Name</th>\n",
       "      <th>Address</th>\n",
       "      <th>City_Name</th>\n",
       "      <th>Zip_Code</th>\n",
       "      <th>County_id</th>\n",
       "      <th>County_Name</th>\n",
       "      <th>Bottles_Sold</th>\n",
       "    </tr>\n",
       "    <tr>\n",
       "      <th>Invoice_id</th>\n",
       "      <th></th>\n",
       "      <th></th>\n",
       "      <th></th>\n",
       "      <th></th>\n",
       "      <th></th>\n",
       "      <th></th>\n",
       "      <th></th>\n",
       "      <th></th>\n",
       "      <th></th>\n",
       "      <th></th>\n",
       "      <th></th>\n",
       "      <th></th>\n",
       "    </tr>\n",
       "  </thead>\n",
       "  <tbody>\n",
       "    <tr>\n",
       "      <th>INV-00013400001</th>\n",
       "      <td>2016-08-29</td>\n",
       "      <td>35918</td>\n",
       "      <td>297</td>\n",
       "      <td>Katou Company</td>\n",
       "      <td>3882</td>\n",
       "      <td>Kwik Shop #579 / Davenport</td>\n",
       "      <td>2805 TELEGRAPH RD</td>\n",
       "      <td>DAVENPORT</td>\n",
       "      <td>52802</td>\n",
       "      <td>82</td>\n",
       "      <td>Scott</td>\n",
       "      <td>1</td>\n",
       "    </tr>\n",
       "    <tr>\n",
       "      <th>INV-00013400002</th>\n",
       "      <td>2016-08-29</td>\n",
       "      <td>23828</td>\n",
       "      <td>297</td>\n",
       "      <td>Katou Company</td>\n",
       "      <td>3882</td>\n",
       "      <td>Kwik Shop #579 / Davenport</td>\n",
       "      <td>2805 TELEGRAPH RD</td>\n",
       "      <td>DAVENPORT</td>\n",
       "      <td>52802</td>\n",
       "      <td>82</td>\n",
       "      <td>Scott</td>\n",
       "      <td>1</td>\n",
       "    </tr>\n",
       "    <tr>\n",
       "      <th>INV-00013400003</th>\n",
       "      <td>2016-08-29</td>\n",
       "      <td>36908</td>\n",
       "      <td>300</td>\n",
       "      <td>Katsuragi Company</td>\n",
       "      <td>3882</td>\n",
       "      <td>Kwik Shop #579 / Davenport</td>\n",
       "      <td>2805 TELEGRAPH RD</td>\n",
       "      <td>DAVENPORT</td>\n",
       "      <td>52802</td>\n",
       "      <td>82</td>\n",
       "      <td>Scott</td>\n",
       "      <td>1</td>\n",
       "    </tr>\n",
       "    <tr>\n",
       "      <th>INV-00013400004</th>\n",
       "      <td>2016-08-29</td>\n",
       "      <td>34359</td>\n",
       "      <td>35</td>\n",
       "      <td>Archer Inc.</td>\n",
       "      <td>3882</td>\n",
       "      <td>Kwik Shop #579 / Davenport</td>\n",
       "      <td>2805 TELEGRAPH RD</td>\n",
       "      <td>DAVENPORT</td>\n",
       "      <td>52802</td>\n",
       "      <td>82</td>\n",
       "      <td>Scott</td>\n",
       "      <td>8</td>\n",
       "    </tr>\n",
       "    <tr>\n",
       "      <th>INV-00013400005</th>\n",
       "      <td>2016-08-29</td>\n",
       "      <td>36903</td>\n",
       "      <td>300</td>\n",
       "      <td>Katsuragi Company</td>\n",
       "      <td>3882</td>\n",
       "      <td>Kwik Shop #579 / Davenport</td>\n",
       "      <td>2805 TELEGRAPH RD</td>\n",
       "      <td>DAVENPORT</td>\n",
       "      <td>52802</td>\n",
       "      <td>82</td>\n",
       "      <td>Scott</td>\n",
       "      <td>1</td>\n",
       "    </tr>\n",
       "  </tbody>\n",
       "</table>\n",
       "</div>"
      ],
      "text/plain": [
       "                       Date  Item_id  Vendor_id        Vendor_Name  Store_id  \\\n",
       "Invoice_id                                                                     \n",
       "INV-00013400001  2016-08-29    35918        297      Katou Company      3882   \n",
       "INV-00013400002  2016-08-29    23828        297      Katou Company      3882   \n",
       "INV-00013400003  2016-08-29    36908        300  Katsuragi Company      3882   \n",
       "INV-00013400004  2016-08-29    34359         35        Archer Inc.      3882   \n",
       "INV-00013400005  2016-08-29    36903        300  Katsuragi Company      3882   \n",
       "\n",
       "                                 Store_Name            Address  City_Name  \\\n",
       "Invoice_id                                                                  \n",
       "INV-00013400001  Kwik Shop #579 / Davenport  2805 TELEGRAPH RD  DAVENPORT   \n",
       "INV-00013400002  Kwik Shop #579 / Davenport  2805 TELEGRAPH RD  DAVENPORT   \n",
       "INV-00013400003  Kwik Shop #579 / Davenport  2805 TELEGRAPH RD  DAVENPORT   \n",
       "INV-00013400004  Kwik Shop #579 / Davenport  2805 TELEGRAPH RD  DAVENPORT   \n",
       "INV-00013400005  Kwik Shop #579 / Davenport  2805 TELEGRAPH RD  DAVENPORT   \n",
       "\n",
       "                 Zip_Code  County_id County_Name  Bottles_Sold  \n",
       "Invoice_id                                                      \n",
       "INV-00013400001     52802         82       Scott             1  \n",
       "INV-00013400002     52802         82       Scott             1  \n",
       "INV-00013400003     52802         82       Scott             1  \n",
       "INV-00013400004     52802         82       Scott             8  \n",
       "INV-00013400005     52802         82       Scott             1  "
      ]
     },
     "execution_count": 20,
     "metadata": {},
     "output_type": "execute_result"
    }
   ],
   "source": [
    "import pandas as pd\n",
    "import numpy as np\n",
    "import copy\n",
    "import matplotlib.pyplot as plt \n",
    "%matplotlib inline\n",
    "df_invoice = pd.read_csv('data_code/invoice.csv', index_col = 'Invoice_id' )\n",
    "df_invoice.head()"
   ]
  },
  {
   "cell_type": "code",
   "execution_count": 21,
   "metadata": {},
   "outputs": [
    {
     "data": {
      "text/plain": [
       "count    930508.000000\n",
       "mean          9.875647\n",
       "std          22.489171\n",
       "min           0.000000\n",
       "25%           2.000000\n",
       "50%           6.000000\n",
       "75%          12.000000\n",
       "max        2160.000000\n",
       "Name: Bottles_Sold, dtype: float64"
      ]
     },
     "execution_count": 21,
     "metadata": {},
     "output_type": "execute_result"
    }
   ],
   "source": [
    "df_invoice.Bottles_Sold.describe()"
   ]
  },
  {
   "cell_type": "code",
   "execution_count": null,
   "metadata": {},
   "outputs": [],
   "source": [
    "# look for the query for 73 sales marked as having sold 0 bottles. "
   ]
  },
  {
   "cell_type": "code",
   "execution_count": 25,
   "metadata": {},
   "outputs": [
    {
     "data": {
      "image/png": "[encoded data removed]",
      "text/plain": [
       "<Figure size 1224x432 with 1 Axes>"
      ]
     },
     "metadata": {
      "needs_background": "light"
     },
     "output_type": "display_data"
    }
   ],
   "source": [
    "f,ax=plt.subplots(figsize=(17,6))\n",
    "df_invoice.Bottles_Sold.hist(ax=ax, bins= 50, edgecolor='black')\n",
    "ax.set_title('Bottles Sold Histogram')\n",
    "plt.xlabel('Count of Bottles Sold')\n",
    "plt.ylabel('Frequency')\n",
    "plt.yscale(\"log\")\n",
    "plt.show()"
   ]
  },
  {
   "cell_type": "code",
   "execution_count": 17,
   "metadata": {},
   "outputs": [
    {
     "data": {
      "text/plain": [
       "count    930508.000000\n",
       "mean       3475.512880\n",
       "std         889.217119\n",
       "min        2554.000000\n",
       "25%        2623.000000\n",
       "50%        3447.000000\n",
       "75%        4076.000000\n",
       "max        9922.000000\n",
       "Name: Store_id, dtype: float64"
      ]
     },
     "execution_count": 17,
     "metadata": {},
     "output_type": "execute_result"
    }
   ],
   "source": [
    "df_invoice.Store_id.describe()"
   ]
  },
  {
   "cell_type": "code",
   "execution_count": 16,
   "metadata": {},
   "outputs": [
    {
     "data": {
      "text/plain": [
       "count        930508\n",
       "unique            2\n",
       "top       DAVENPORT\n",
       "freq         569608\n",
       "Name: City_Name, dtype: object"
      ]
     },
     "execution_count": 16,
     "metadata": {},
     "output_type": "execute_result"
    }
   ],
   "source": [
    "df_invoice.City_Name.describe()"
   ]
  },
  {
   "cell_type": "code",
   "execution_count": 5,
   "metadata": {},
   "outputs": [
    {
     "name": "stdout",
     "output_type": "stream",
     "text": [
      "<class 'pandas.core.frame.DataFrame'>\n",
      "Index: 930508 entries, INV-00013400001 to S34122500017\n",
      "Data columns (total 12 columns):\n",
      " #   Column        Non-Null Count   Dtype \n",
      "---  ------        --------------   ----- \n",
      " 0   Date          930508 non-null  object\n",
      " 1   Item_id       930508 non-null  int64 \n",
      " 2   Vendor_id     930508 non-null  int64 \n",
      " 3   Vendor_Name   930508 non-null  object\n",
      " 4   Store_id      930508 non-null  int64 \n",
      " 5   Store_Name    930508 non-null  object\n",
      " 6   Address       930508 non-null  object\n",
      " 7   City_Name     930508 non-null  object\n",
      " 8   Zip_Code      930508 non-null  int64 \n",
      " 9   County_id     930508 non-null  int64 \n",
      " 10  County_Name   930508 non-null  object\n",
      " 11  Bottles_Sold  930508 non-null  int64 \n",
      "dtypes: int64(6), object(6)\n",
      "memory usage: 92.3+ MB\n"
     ]
    }
   ],
   "source": [
    "df_invoice.info()"
   ]
  },
  {
   "cell_type": "code",
   "execution_count": 6,
   "metadata": {},
   "outputs": [
    {
     "data": {
      "text/plain": [
       "2013-12-18    3021\n",
       "2013-12-04    2897\n",
       "2014-08-06    2878\n",
       "2014-07-09    2807\n",
       "2013-12-30    2791\n",
       "              ... \n",
       "2017-12-05       1\n",
       "2016-10-14       1\n",
       "2017-05-30       1\n",
       "2014-05-22       1\n",
       "2017-12-26       1\n",
       "Name: Date, Length: 1021, dtype: int64"
      ]
     },
     "execution_count": 6,
     "metadata": {},
     "output_type": "execute_result"
    }
   ],
   "source": [
    "df_invoice['Date'].value_counts()"
   ]
  },
  {
   "cell_type": "code",
   "execution_count": 21,
   "metadata": {},
   "outputs": [
    {
     "data": {
      "text/plain": [
       "2013-12-18    0.003247\n",
       "2013-12-04    0.003113\n",
       "2014-08-06    0.003093\n",
       "2014-07-09    0.003017\n",
       "2013-12-30    0.002999\n",
       "                ...   \n",
       "2017-12-08    0.000001\n",
       "2016-11-29    0.000001\n",
       "2014-06-12    0.000001\n",
       "2017-01-27    0.000001\n",
       "2017-02-21    0.000001\n",
       "Name: Date, Length: 1021, dtype: float64"
      ]
     },
     "execution_count": 21,
     "metadata": {},
     "output_type": "execute_result"
    }
   ],
   "source": [
    "df_invoice['Date'].value_counts(normalize = True)"
   ]
  },
  {
   "cell_type": "code",
   "execution_count": 23,
   "metadata": {},
   "outputs": [
    {
     "data": {
      "text/plain": [
       "36904     9028\n",
       "36308     6381\n",
       "36886     6343\n",
       "36908     6229\n",
       "11788     5824\n",
       "          ... \n",
       "904481       1\n",
       "37436        1\n",
       "1176         1\n",
       "903969       1\n",
       "903442       1\n",
       "Name: Item_id, Length: 4165, dtype: int64"
      ]
     },
     "execution_count": 23,
     "metadata": {},
     "output_type": "execute_result"
    }
   ],
   "source": [
    "df_invoice['Item_id'].value_counts()"
   ]
  },
  {
   "cell_type": "code",
   "execution_count": 24,
   "metadata": {},
   "outputs": [
    {
     "data": {
      "text/plain": [
       "36904     0.009702\n",
       "36308     0.006858\n",
       "36886     0.006817\n",
       "36908     0.006694\n",
       "11788     0.006259\n",
       "            ...   \n",
       "904481    0.000001\n",
       "37436     0.000001\n",
       "1176      0.000001\n",
       "903969    0.000001\n",
       "903442    0.000001\n",
       "Name: Item_id, Length: 4165, dtype: float64"
      ]
     },
     "execution_count": 24,
     "metadata": {},
     "output_type": "execute_result"
    }
   ],
   "source": [
    "df_invoice['Item_id'].value_counts(normalize = True)"
   ]
  },
  {
   "cell_type": "code",
   "execution_count": 8,
   "metadata": {},
   "outputs": [
    {
     "data": {
      "text/plain": [
       "260    156106\n",
       "65      88201\n",
       "434     76563\n",
       "370     57687\n",
       "35      49121\n",
       "        ...  \n",
       "324         1\n",
       "310         1\n",
       "283         1\n",
       "298         1\n",
       "507         1\n",
       "Name: Vendor_id, Length: 155, dtype: int64"
      ]
     },
     "execution_count": 8,
     "metadata": {},
     "output_type": "execute_result"
    }
   ],
   "source": [
    "df_invoice['Vendor_id'].value_counts()"
   ]
  },
  {
   "cell_type": "code",
   "execution_count": 9,
   "metadata": {},
   "outputs": [
    {
     "data": {
      "text/plain": [
       "Inuyasha Brands    156106\n",
       "Ayanami Brands      88201\n",
       "Minami LLC          76563\n",
       "Kyon Inc.           57687\n",
       "Archer Inc.         49121\n",
       "                    ...  \n",
       "Cifer LLC               1\n",
       "Ichihara LLC            1\n",
       "Nishimiya LLC           1\n",
       "Oikawa Beverage         1\n",
       "Dazai LLC               1\n",
       "Name: Vendor_Name, Length: 155, dtype: int64"
      ]
     },
     "execution_count": 9,
     "metadata": {},
     "output_type": "execute_result"
    }
   ],
   "source": [
    "df_invoice['Vendor_Name'].value_counts()"
   ]
  },
  {
   "cell_type": "code",
   "execution_count": 10,
   "metadata": {},
   "outputs": [
    {
     "data": {
      "text/plain": [
       "2614    74074\n",
       "2625    61716\n",
       "2623    55706\n",
       "3820    44947\n",
       "2621    43824\n",
       "        ...  \n",
       "5496      147\n",
       "5130       93\n",
       "5506       75\n",
       "9022        9\n",
       "9922        5\n",
       "Name: Store_id, Length: 102, dtype: int64"
      ]
     },
     "execution_count": 10,
     "metadata": {},
     "output_type": "execute_result"
    }
   ],
   "source": [
    "df_invoice['Store_id'].value_counts()"
   ]
  },
  {
   "cell_type": "code",
   "execution_count": 11,
   "metadata": {},
   "outputs": [
    {
     "data": {
      "text/plain": [
       "Hy-Vee #3 Food and Drugstore         74074\n",
       "Hy-Vee Convenience Store #2          61716\n",
       "Hy-Vee Food Store #4 / Sioux City    55706\n",
       "Charlie's Convenience Store,         44947\n",
       "Hy-Vee Food Store #3 / Sioux City    43824\n",
       "                                     ...  \n",
       "Bacon Creek Country Store              197\n",
       "Dhakals LLC                            147\n",
       "Great River Craft Soda                  93\n",
       "Casey's General Store #2168             75\n",
       "Artisan Craft Soda                      14\n",
       "Name: Store_Name, Length: 98, dtype: int64"
      ]
     },
     "execution_count": 11,
     "metadata": {},
     "output_type": "execute_result"
    }
   ],
   "source": [
    "df_invoice['Store_Name'].value_counts()"
   ]
  },
  {
   "cell_type": "code",
   "execution_count": 12,
   "metadata": {},
   "outputs": [
    {
     "data": {
      "text/plain": [
       "1823 E KIMBERLY RD         74074\n",
       "3301 W KIMBERLY RD         61716\n",
       "2827 HAMILTON BLVD         55706\n",
       "507 W 19th St              44947\n",
       "3301 GORDON DR             43824\n",
       "                           ...  \n",
       "3108 W Central Park Ave      147\n",
       "332, E  2ND ST                93\n",
       "1691 W 53rd St                75\n",
       "318, E 2nd St.                 9\n",
       "318 E 2nd St.                  5\n",
       "Name: Address, Length: 98, dtype: int64"
      ]
     },
     "execution_count": 12,
     "metadata": {},
     "output_type": "execute_result"
    }
   ],
   "source": [
    "df_invoice['Address'].value_counts()"
   ]
  },
  {
   "cell_type": "code",
   "execution_count": 13,
   "metadata": {},
   "outputs": [
    {
     "data": {
      "text/plain": [
       "DAVENPORT     569608\n",
       "SIOUX CITY    360900\n",
       "Name: City_Name, dtype: int64"
      ]
     },
     "execution_count": 13,
     "metadata": {},
     "output_type": "execute_result"
    }
   ],
   "source": [
    "df_invoice['City_Name'].value_counts()"
   ]
  },
  {
   "cell_type": "code",
   "execution_count": 14,
   "metadata": {},
   "outputs": [
    {
     "data": {
      "text/plain": [
       "52807    182683\n",
       "52804    155865\n",
       "52806    106874\n",
       "51106    101757\n",
       "51104     69081\n",
       "52802     67939\n",
       "51103     62986\n",
       "51105     56927\n",
       "52803     37296\n",
       "51108     30964\n",
       "51101     30395\n",
       "52084     17145\n",
       "51109      8790\n",
       "52801      1806\n",
       "Name: Zip_Code, dtype: int64"
      ]
     },
     "execution_count": 14,
     "metadata": {},
     "output_type": "execute_result"
    }
   ],
   "source": [
    "df_invoice['Zip_Code'].value_counts()"
   ]
  },
  {
   "cell_type": "code",
   "execution_count": 15,
   "metadata": {},
   "outputs": [
    {
     "data": {
      "text/plain": [
       "Scott       569608\n",
       "Woodbury    360900\n",
       "Name: County_Name, dtype: int64"
      ]
     },
     "execution_count": 15,
     "metadata": {},
     "output_type": "execute_result"
    }
   ],
   "source": [
    "df_invoice['County_Name'].value_counts()"
   ]
  },
  {
   "cell_type": "code",
   "execution_count": 16,
   "metadata": {},
   "outputs": [
    {
     "data": {
      "text/plain": [
       "82    569608\n",
       "97    360900\n",
       "Name: County_id, dtype: int64"
      ]
     },
     "execution_count": 16,
     "metadata": {},
     "output_type": "execute_result"
    }
   ],
   "source": [
    "df_invoice['County_id'].value_counts()"
   ]
  },
  {
   "cell_type": "markdown",
   "metadata": {},
   "source": [
    "# What questions to ask about the data? \n",
    "\n",
    "1. Which vender is buying the most? \n",
    "1. What item is the most popular item?\n",
    "1. What item is the least popular item? \n",
    "1. How many bottles on average are sold?\n",
    "1. What are the sales by month? Plot it by month over the 4 years. \n",
    "1. What are the differences between the two cities? "
   ]
  },
  {
   "cell_type": "code",
   "execution_count": 15,
   "metadata": {},
   "outputs": [
    {
     "ename": "OperationalError",
     "evalue": "no such table: invoices",
     "output_type": "error",
     "traceback": [
      "\u001b[0;31m---------------------------------------------------------------------------\u001b[0m",
      "\u001b[0;31mOperationalError\u001b[0m                          Traceback (most recent call last)",
      "\u001b[0;32m<ipython-input-15-0619bb02eec8>\u001b[0m in \u001b[0;36m<module>\u001b[0;34m\u001b[0m\n\u001b[1;32m      7\u001b[0m \u001b[0;34m\u001b[0m\u001b[0m\n\u001b[1;32m      8\u001b[0m \u001b[0;31m# Return all results of query\u001b[0m\u001b[0;34m\u001b[0m\u001b[0;34m\u001b[0m\u001b[0;34m\u001b[0m\u001b[0m\n\u001b[0;32m----> 9\u001b[0;31m \u001b[0mcur\u001b[0m\u001b[0;34m.\u001b[0m\u001b[0mexecute\u001b[0m\u001b[0;34m(\u001b[0m\u001b[0;34m'Select * from invoices'\u001b[0m\u001b[0;34m)\u001b[0m\u001b[0;34m\u001b[0m\u001b[0;34m\u001b[0m\u001b[0m\n\u001b[0m\u001b[1;32m     10\u001b[0m \u001b[0mcur\u001b[0m\u001b[0;34m.\u001b[0m\u001b[0mfetchall\u001b[0m\u001b[0;34m(\u001b[0m\u001b[0;34m)\u001b[0m\u001b[0;34m\u001b[0m\u001b[0;34m\u001b[0m\u001b[0m\n\u001b[1;32m     11\u001b[0m \u001b[0;34m\u001b[0m\u001b[0m\n",
      "\u001b[0;31mOperationalError\u001b[0m: no such table: invoices"
     ]
    }
   ],
   "source": [
    "import sqlite3\n",
    "\n",
    "# Create a SQL connection to our SQLite database\n",
    "con = sqlite3.connect(\"data_code/invoices.sqlite\")\n",
    "\n",
    "cur = con.cursor()\n",
    "\n",
    "# Return all results of query\n",
    "cur.execute('Select * from invoices')\n",
    "cur.fetchall()\n",
    "\n",
    "# Return first result of query\n",
    "cur.execute('Select * from invoices')\n",
    "cur.fetchone()\n",
    "\n",
    "# Be sure to close the connection\n",
    "con.close()"
   ]
  },
  {
   "cell_type": "code",
   "execution_count": null,
   "metadata": {},
   "outputs": [],
   "source": []
  }
 ],
 "metadata": {
  "kernelspec": {
   "display_name": "Python 3",
   "language": "python",
   "name": "python3"
  },
  "language_info": {
   "codemirror_mode": {
    "name": "ipython",
    "version": 3
   },
   "file_extension": ".py",
   "mimetype": "text/x-python",
   "name": "python",
   "nbconvert_exporter": "python",
   "pygments_lexer": "ipython3",
   "version": "3.8.5"
  }
 },
 "nbformat": 4,
 "nbformat_minor": 4
}
